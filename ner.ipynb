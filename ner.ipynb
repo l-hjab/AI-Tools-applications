{
  "nbformat": 4,
  "nbformat_minor": 0,
  "metadata": {
    "colab": {
      "provenance": []
    },
    "kernelspec": {
      "name": "python3",
      "display_name": "Python 3"
    },
    "language_info": {
      "name": "python"
    }
  },
  "cells": [
    {
      "cell_type": "code",
      "execution_count": null,
      "metadata": {
        "id": "fQy_rYfgwi9L",
        "outputId": "a78baf61-0916-4815-a739-4717711abdc0",
        "colab": {
          "base_uri": "https://localhost:8080/"
        }
      },
      "outputs": [
        {
          "output_type": "stream",
          "name": "stdout",
          "text": [
            "\n",
            "Review: I absolutely love my new Apple iPhone 13. It works like a charm!\n",
            "→ Entities Found: ['iPhone 13', 'Apple']\n",
            "→ Sentiment: positive (Score: 0.335)\n",
            "\n",
            "Review: The Samsung Galaxy S21 is terrible. It crashed within a week.\n",
            "→ Entities Found: ['Galaxy S21', 'Samsung']\n",
            "→ Sentiment: negative (Score: -1.0)\n",
            "\n",
            "Review: Sony headphones are amazing! Great sound quality.\n",
            "→ Entities Found: ['headphones', 'Sony']\n",
            "→ Sentiment: positive (Score: 0.65)\n",
            "\n",
            "Review: The Dell laptop feels cheap and slow. Not worth the price.\n",
            "→ Entities Found: ['laptop', 'Dell']\n",
            "→ Sentiment: negative (Score: -0.017)\n",
            "\n",
            "Review: I got the new Fitbit Versa 3 and I’m very impressed with the features.\n",
            "→ Entities Found: ['Versa 3', 'Fitbit']\n",
            "→ Sentiment: positive (Score: 0.568)\n"
          ]
        }
      ],
      "source": [
        "# Install required packages (if not already installed)\n",
        "# !pip install spacy\n",
        "# !python -m spacy download en_core_web_sm\n",
        "\n",
        "import spacy\n",
        "from spacy.matcher import PhraseMatcher\n",
        "from textblob import TextBlob  # for rule-based sentiment\n",
        "\n",
        "# Sample user reviews (you can replace or expand this list)\n",
        "reviews = [\n",
        "    \"I absolutely love my new Apple iPhone 13. It works like a charm!\",\n",
        "    \"The Samsung Galaxy S21 is terrible. It crashed within a week.\",\n",
        "    \"Sony headphones are amazing! Great sound quality.\",\n",
        "    \"The Dell laptop feels cheap and slow. Not worth the price.\",\n",
        "    \"I got the new Fitbit Versa 3 and I’m very impressed with the features.\"\n",
        "]\n",
        "\n",
        "# Load spaCy English model\n",
        "nlp = spacy.load(\"en_core_web_sm\")\n",
        "\n",
        "# Predefined list of known product names and brands\n",
        "brands = [\"Apple\", \"Samsung\", \"Sony\", \"Dell\", \"Fitbit\"]\n",
        "products = [\"iPhone 13\", \"Galaxy S21\", \"headphones\", \"laptop\", \"Versa 3\"]\n",
        "\n",
        "# Initialize phrase matchers for product names and brands\n",
        "matcher = PhraseMatcher(nlp.vocab, attr=\"LOWER\")\n",
        "patterns = [nlp.make_doc(text) for text in brands + products]\n",
        "matcher.add(\"PRODUCT_BRAND\", patterns)\n",
        "\n",
        "# Function to extract entities and sentiment\n",
        "def analyze_review(review):\n",
        "    doc = nlp(review)\n",
        "    matches = matcher(doc)\n",
        "\n",
        "    # Extract matched entities\n",
        "    extracted_entities = set()\n",
        "    for match_id, start, end in matches:\n",
        "        span = doc[start:end]\n",
        "        extracted_entities.add(span.text)\n",
        "\n",
        "    # Rule-based sentiment using TextBlob\n",
        "    sentiment_score = TextBlob(review).sentiment.polarity\n",
        "    sentiment = \"positive\" if sentiment_score > 0 else \"negative\" if sentiment_score < 0 else \"neutral\"\n",
        "\n",
        "    return {\n",
        "        \"review\": review,\n",
        "        \"entities\": list(extracted_entities),\n",
        "        \"sentiment\": sentiment,\n",
        "        \"sentiment_score\": round(sentiment_score, 3)\n",
        "    }\n",
        "\n",
        "# Analyze each review\n",
        "results = [analyze_review(review) for review in reviews]\n",
        "\n",
        "# Display results\n",
        "for res in results:\n",
        "    print(\"\\nReview:\", res[\"review\"])\n",
        "    print(\"→ Entities Found:\", res[\"entities\"])\n",
        "    print(\"→ Sentiment:\", res[\"sentiment\"], f\"(Score: {res['sentiment_score']})\")\n"
      ]
    }
  ]
}