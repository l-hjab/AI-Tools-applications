{
  "nbformat": 4,
  "nbformat_minor": 0,
  "metadata": {
    "colab": {
      "provenance": []
    },
    "kernelspec": {
      "name": "python3",
      "display_name": "Python 3"
    },
    "language_info": {
      "name": "python"
    }
  },
  "cells": [
    {
      "cell_type": "code",
      "execution_count": 9,
      "metadata": {
        "colab": {
          "base_uri": "https://localhost:8080/"
        },
        "id": "bOrvs6tHF5dl",
        "outputId": "3b0d5169-5681-4834-ace7-8ef89e40c289"
      },
      "outputs": [
        {
          "output_type": "stream",
          "name": "stdout",
          "text": [
            "Evaluation Metrics:\n",
            "Accuracy : 0.93\n",
            "Precision: 0.93\n",
            "Recall   : 0.93\n"
          ]
        }
      ],
      "source": [
        "import tensorflow\n",
        "import numpy as np\n",
        "import sklearn\n",
        "import pandas as pd\n",
        "from sklearn.datasets import load_iris\n",
        "from sklearn.model_selection import train_test_split\n",
        "from sklearn.tree import DecisionTreeClassifier\n",
        "from sklearn.metrics import accuracy_score,precision_score,recall_score\n",
        "from sklearn.preprocessing import LabelEncoder\n",
        "\n",
        "# Step 1: Load the Iris dataset\n",
        "iris = load_iris()\n",
        "df = pd.DataFrame(data=iris.data, columns=iris.feature_names)\n",
        "df['species'] = pd.Categorical.from_codes(iris.target, iris.target_names)\n",
        "\n",
        "# Step 2: Check for missing values and handle them\n",
        "# (for demonstration, let's simulate some missing data)\n",
        "df.loc[0:2, 'sepal length (cm)'] = np.nan\n",
        "\n",
        "# Fill missing values with the mean of each column\n",
        "df.fillna(df.mean(numeric_only=True), inplace=True)\n",
        "\n",
        "# step 3 :encoding labels to numerics\n",
        "label_encoder=LabelEncoder()\n",
        "df['species_encoded'] = label_encoder.fit_transform(df['species'])\n",
        "\n",
        "# step 4:preparing features X nad y labels\n",
        "X=df[iris.feature_names].values\n",
        "y=df['species_encoded'].values\n",
        "\n",
        "# step5 :split data into training and testing\n",
        "x_train,x_test,y_train,y_test=train_test_split(\n",
        "    X,y,test_size=0.2,random_state=42,stratify=y\n",
        ")\n",
        "\n",
        "#step 6: Train a decision tree Classifier\n",
        "clf=DecisionTreeClassifier(random_state=42)\n",
        "clf.fit(x_train,y_train)\n",
        "\n",
        "# Step 7: Make predictions\n",
        "y_pred=clf.predict(x_test)\n",
        "\n",
        "\n",
        "# Step 8: Evaluate the model\n",
        "accuracy = accuracy_score(y_test, y_pred)\n",
        "precision = precision_score(y_test, y_pred, average='macro')  # 'macro' treats all classes equally\n",
        "recall = recall_score(y_test, y_pred, average='macro')\n",
        "\n",
        "# Print evaluation metrics\n",
        "print(\"Evaluation Metrics:\")\n",
        "print(f\"Accuracy : {accuracy:.2f}\")\n",
        "print(f\"Precision: {precision:.2f}\")\n",
        "print(f\"Recall   : {recall:.2f}\")"
      ]
    }
  ]
}